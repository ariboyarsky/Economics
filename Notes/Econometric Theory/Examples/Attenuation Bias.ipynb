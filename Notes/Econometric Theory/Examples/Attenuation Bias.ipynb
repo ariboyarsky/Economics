{
 "cells": [
  {
   "cell_type": "markdown",
   "metadata": {},
   "source": [
    "# Measurment Error and Attenuation Bias\n",
    "### Econ 21410 Lecture Notes\n",
    "#### Ari Boyarky (aboyarsky@uchicago.edu)"
   ]
  },
  {
   "cell_type": "markdown",
   "metadata": {},
   "source": [
    "Suppose $(y_i, z_i)$ are random variables and that $y_i = \\beta z_i + \\epsilon$. However we do not observe $z_i$ rather we have,\n",
    "\n",
    "$$x_i = z_i + u_i$$\n",
    "\n",
    "Where $u_i \\perp \\epsilon_i, z_i$. This is called measurment error. When $\\mathbb{E}[u_i] = 0$ this is called classical measurement error. As such we have,\n",
    "\n",
    "$$y_i = z_i\\beta + \\epsilon_i = (x_i - u_i)\\beta + \\epsilon_i = x_i\\beta + v_i$$\n",
    "\n",
    "Where $v_i = \\epsilon_i - u_i\\beta$. So, $\\mathbb{E}[x_iv_i]=\\mathbb{E}[(z_i + u_i)(\\epsilon_i - u_i\\beta)] = -\\mathbb{E}[u_iu_i]\\beta$. So if $\\beta \\neq 0$ we have a biased estimate.\n",
    "\n",
    "We can actually go further and charecterize this bias. Specifcally, assuming 1 regressor we have\n",
    "\n",
    "$$\\beta^\\star = \\beta + \\frac{\\mathbb{E}[x_iu_i]}{\\mathbb{E}[x_i^2]} = \\beta(1-\\frac{\\mathbb{E}[u_i^2]}{\\mathbb{E}[x_i^2]})$$\n",
    "\n",
    "And because $\\frac{\\mathbb{E}[u_i^2]}{\\mathbb{E}[x_i^2]}<1$ the $\\beta$ will shrink to 0. We call this attenuation bias.\n",
    "\n",
    "To solve this problem we often turn to instrumental variables. A good choice of IV is another measurment of $z_i$ that is independent of $u_i$. In particular,\n",
    "\n",
    "$$\\hat\\beta_{IV} = \\frac{Cov(y,w)}{Cov(x,w)} = \\frac{Cov(\\beta z_i + u_i,w_i)}{Cov(z_i + u_i,w_i)}$$\n",
    "\n",
    "And so,\n",
    "\n",
    "$$\\underset{n\\to\\infty}{\\text{plim}}\\;\\; \\hat\\beta_{IV} = \\beta$$\n",
    "\n",
    "Now, we the theory out of the way let us turn to a monte carlo simulation."
   ]
  },
  {
   "cell_type": "code",
   "execution_count": 62,
   "metadata": {
    "collapsed": true
   },
   "outputs": [],
   "source": [
    "import numpy as np\n",
    "import pandas as pd\n",
    "import statsmodels.api as sm\n",
    "import statsmodels.formula.api as smf\n",
    "from statsmodels.sandbox.regression.gmm import IV2SLS\n",
    "import linearmodels"
   ]
  },
  {
   "cell_type": "code",
   "execution_count": 78,
   "metadata": {
    "collapsed": true
   },
   "outputs": [],
   "source": [
    "def simulate_data_ex1(N=50, seed=65594):\n",
    "    if seed == None:\n",
    "        pass\n",
    "    else:\n",
    "        np.random.seed(seed)\n",
    "    # Let's ensure that x_1 and x_2 are correlated\n",
    "    mean = np.array([0, 0])\n",
    "    X =  np.random.randn(N,)\n",
    "    eps = np.random.randn(N)\n",
    "    u = np.random.randn(N)\n",
    "    v = np.random.randn(N)\n",
    "    beta = 5\n",
    "    df = pd.DataFrame(eps, columns=['eps'])\n",
    "    df['u'] = u\n",
    "    df['v'] = v\n",
    "    df['y'] = beta*X + df.eps\n",
    "    df['z'] = X + df.u\n",
    "    df['w'] = X + df.v\n",
    "    df = df[['y', 'z', 'w']]\n",
    "    return df"
   ]
  },
  {
   "cell_type": "code",
   "execution_count": 79,
   "metadata": {
    "collapsed": true
   },
   "outputs": [],
   "source": [
    "df = simulate_data_ex1(N=100, seed=75100)\n",
    "df.head()\n",
    "reg = smf.ols('y ~ z', df).fit()"
   ]
  },
  {
   "cell_type": "code",
   "execution_count": 85,
   "metadata": {
    "collapsed": true
   },
   "outputs": [],
   "source": [
    "np.random.seed(100)\n",
    "M = 1000\n",
    "results = pd.DataFrame(index=range(M), columns=reg.params.index, dtype=np.float)\n",
    "for m in range(M):\n",
    "    df = simulate_data_ex1(seed=None, N=100)\n",
    "    reg = smf.ols('y ~ z', df).fit()\n",
    "    results.loc[m, :] = reg.params"
   ]
  },
  {
   "cell_type": "code",
   "execution_count": 86,
   "metadata": {},
   "outputs": [
    {
     "data": {
      "text/html": [
       "<div>\n",
       "<style scoped>\n",
       "    .dataframe tbody tr th:only-of-type {\n",
       "        vertical-align: middle;\n",
       "    }\n",
       "\n",
       "    .dataframe tbody tr th {\n",
       "        vertical-align: top;\n",
       "    }\n",
       "\n",
       "    .dataframe thead th {\n",
       "        text-align: right;\n",
       "    }\n",
       "</style>\n",
       "<table border=\"1\" class=\"dataframe\">\n",
       "  <thead>\n",
       "    <tr style=\"text-align: right;\">\n",
       "      <th></th>\n",
       "      <th>z</th>\n",
       "    </tr>\n",
       "  </thead>\n",
       "  <tbody>\n",
       "    <tr>\n",
       "      <th>0</th>\n",
       "      <td>2.183365</td>\n",
       "    </tr>\n",
       "    <tr>\n",
       "      <th>1</th>\n",
       "      <td>2.210971</td>\n",
       "    </tr>\n",
       "    <tr>\n",
       "      <th>2</th>\n",
       "      <td>2.791391</td>\n",
       "    </tr>\n",
       "    <tr>\n",
       "      <th>3</th>\n",
       "      <td>2.780626</td>\n",
       "    </tr>\n",
       "    <tr>\n",
       "      <th>4</th>\n",
       "      <td>2.424900</td>\n",
       "    </tr>\n",
       "  </tbody>\n",
       "</table>\n",
       "</div>"
      ],
      "text/plain": [
       "          z\n",
       "0  2.183365\n",
       "1  2.210971\n",
       "2  2.791391\n",
       "3  2.780626\n",
       "4  2.424900"
      ]
     },
     "execution_count": 86,
     "metadata": {},
     "output_type": "execute_result"
    }
   ],
   "source": [
    "results.head()"
   ]
  },
  {
   "cell_type": "code",
   "execution_count": 87,
   "metadata": {},
   "outputs": [
    {
     "data": {
      "text/plain": [
       "2.5055386361206273"
      ]
     },
     "execution_count": 87,
     "metadata": {},
     "output_type": "execute_result"
    }
   ],
   "source": [
    "np.mean(results.z)"
   ]
  },
  {
   "cell_type": "code",
   "execution_count": 88,
   "metadata": {
    "collapsed": true
   },
   "outputs": [],
   "source": [
    "np.random.seed(100)\n",
    "M = 1000\n",
    "ivs = list()\n",
    "for m in range(M):\n",
    "    df = simulate_data_ex1(seed=None, N=100)\n",
    "    reg = linearmodels.IV2SLS.from_formula('y ~ [z ~ w]', data=df).fit()\n",
    "    ivs.append(reg._params[\"z\"])"
   ]
  },
  {
   "cell_type": "code",
   "execution_count": 89,
   "metadata": {},
   "outputs": [
    {
     "data": {
      "text/plain": [
       "5.12501128890838"
      ]
     },
     "execution_count": 89,
     "metadata": {},
     "output_type": "execute_result"
    }
   ],
   "source": [
    "np.mean(ivs)"
   ]
  },
  {
   "cell_type": "code",
   "execution_count": null,
   "metadata": {
    "collapsed": true
   },
   "outputs": [],
   "source": []
  }
 ],
 "metadata": {
  "kernelspec": {
   "display_name": "Python 3",
   "language": "python",
   "name": "python3"
  },
  "language_info": {
   "codemirror_mode": {
    "name": "ipython",
    "version": 3
   },
   "file_extension": ".py",
   "mimetype": "text/x-python",
   "name": "python",
   "nbconvert_exporter": "python",
   "pygments_lexer": "ipython3",
   "version": "3.6.7"
  }
 },
 "nbformat": 4,
 "nbformat_minor": 2
}
